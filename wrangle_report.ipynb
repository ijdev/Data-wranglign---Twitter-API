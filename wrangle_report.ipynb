{
 "cells": [
  {
   "cell_type": "markdown",
   "metadata": {},
   "source": [
    "# Wrangling Report - WeRateDogs Project\n",
    "\t\n",
    "## Table of Contents\n",
    "<ul>\n",
    "<li><a href=\"#gather\">Gather Phase</a></li>\n",
    "<li><a href=\"#assess\">Assess Phase</a></li>\n",
    "<li><a href=\"#clean\">Clean Phase</a></li>\n",
    "</ul>"
   ]
  },
  {
   "cell_type": "markdown",
   "metadata": {},
   "source": [
    "<a id='gather'></a>\n",
    "\n",
    "### Gather Phase\n",
    "> During this phase I gathered couple of files some of which has been given and some I downloaded programmatically.\n",
    "The data I gathered is the WeRateDogs Twitter archive, which has been given to me. The file contains information of tweets from the WeRateDogs account. After downloading the file, I simply read the file as csv and moved to the next step. There is number of problems in this file that will be discussed further in the next phase.\n",
    "Secondly, in this step its required to pull tweets from the Twitter using twitter API which was not an easy access to get, after few days of emailing back and forth with twitter I had gain access and started to pull tweets with the tweet id in the WeRateDogs Twitter archive using tweepy library. This will give us the retweets and favorites count of each tweet. \n",
    "Last step in this phase was downloading the image_predictions file, which was also given, it contains prediction of dog’s breed of each tweet.\n"
   ]
  },
  {
   "cell_type": "markdown",
   "metadata": {},
   "source": [
    "<a id='assess'></a>\n",
    "\n",
    "### Assess Phase\n",
    ">After gathering the data, this phase contains two steps assess both quality and tidiness issues visually and programmatically on the files created in the previous phase.\n",
    "For quality issues in twitter_archive_enhanced.csv  I firstly checked visually by using pandas to explore the dataset and understanding what each column represents. After that I saw null values and missing data, unneeded columns such as reply_to which represent information about replies tweets, retweeted tweets that was in no use for this analysis, expend_url, and source_tweet all of which was useless for this analysis.\n",
    "Secondly, I checked programmatically, and I saw things that was not cleared in the visible in the visual assessment such as the timestamp column was in the format of a string, I used panda’s function to see what the datatype of the columns. Also after using the unique function I was to detect the problem of naming it was clear that the naming of each dog was to take the third word of the tweet and that did worked for a lot of tweet but not all, there are names such a, the, an, and actually.\n",
    "For tiredness issues in the same file, the file did not have tidy-data where each column represents a variable and each row represent an observation. The four columns doggy, floofer, pupper, and puppo should be one column as ‘stage’. and the stage should be categorical variable.\n",
    "The second file image_prediction I did reduce the number of rows by removing any rows that had three false predictions.\n"
   ]
  },
  {
   "cell_type": "markdown",
   "metadata": {},
   "source": [
    "<a id='clean'></a>\n",
    "\n",
    "### Clean Phase\n",
    ">Once the issues have been documented I simply wen one by one and cleaned them.\n",
    "First, I made a copy of the dataframe then deleted all rows that was related to replies and retweets, these rows did not have any dog information we want, then deleted the replies and retweeted columns. Changed the timestamp column to DataTime object.\n",
    "After that I dealt with the wrong naming of dogs, using regular expression I was ably to extract all the wrong names and then replace those with ‘None’. I was planning to get the name from the tweet itself, but some tweet never mentioned the name whatsoever.\n",
    "Fixed the problem of the tiredness of the dog’s stage, I simply added all stages together then used the replace function to correct the name because using melt function alone will not give us the desired result because some dogs have more than one stage. \n",
    "Deleted all unneeded column floofer, doggo, puppo, pupper, expanded_urls, etc.\n"
   ]
  }
 ],
 "metadata": {
  "kernelspec": {
   "display_name": "Python 3",
   "language": "python",
   "name": "python3"
  },
  "language_info": {
   "codemirror_mode": {
    "name": "ipython",
    "version": 3
   },
   "file_extension": ".py",
   "mimetype": "text/x-python",
   "name": "python",
   "nbconvert_exporter": "python",
   "pygments_lexer": "ipython3",
   "version": "3.7.3"
  }
 },
 "nbformat": 4,
 "nbformat_minor": 2
}
